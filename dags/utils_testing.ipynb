{
 "cells": [
  {
   "cell_type": "markdown",
   "metadata": {},
   "source": []
  },
  {
   "cell_type": "code",
   "execution_count": 8,
   "metadata": {},
   "outputs": [],
   "source": [
    "import tableauserverclient as tsc\n",
    "import pandas as pd\n",
    "import tableau_utils as tu"
   ]
  },
  {
   "cell_type": "code",
   "execution_count": 9,
   "metadata": {},
   "outputs": [],
   "source": [
    "user = \"blankartz@amendllc.com\"\n",
    "password = \"<pass>\"\n",
    "site_id = \"statewidesafetysystems\"\n",
    "\n",
    "# Ben\n",
    "#token_name = \"tableau-refresh-test\"\n",
    "#token_value = \"74l5rXGSTfCt8+Ui/HacXQ==:uxxROtbQvKx3kWbiP6oqvWfmFb1jyfW7\"\n",
    "\n",
    "# Andrea\n",
    "token_name = \"refresh-token-ag\"\n",
    "token_value = \"53MOfbqBRxSxCgMCrYWukw==:YE5j6jKyT2l3aI5U7Ud8D4VC32b2Ef2f\"\n",
    "\n",
    "server_name = 'https://10ay.online.tableau.com/'"
   ]
  },
  {
   "cell_type": "code",
   "execution_count": 10,
   "metadata": {},
   "outputs": [
    {
     "name": "stdout",
     "output_type": "stream",
     "text": [
      "Connected to server\n",
      "Auth passed for refresh-token-ag\n"
     ]
    },
    {
     "data": {
      "text/plain": [
       "<PersonalAccessToken name=refresh-token-ag token=53MOfbqBRxSxCgMCrYWukw==:YE5j6jKyT2l3aI5U7Ud8D4VC32b2Ef2f>"
      ]
     },
     "execution_count": 10,
     "metadata": {},
     "output_type": "execute_result"
    }
   ],
   "source": [
    "server = tu._connect_server(server_name)\n",
    "tu._connection_builder(token_name,token_value,site_id,server)"
   ]
  },
  {
   "cell_type": "code",
   "execution_count": 11,
   "metadata": {},
   "outputs": [
    {
     "name": "stdout",
     "output_type": "stream",
     "text": [
      "Connected to server\n",
      "Auth passed for refresh-token-ag\n",
      "Retrieved workbooks\n"
     ]
    }
   ],
   "source": [
    "pattern = \"Financial Statements - Sandbox\"\n",
    "df = tu.retreive_workbook_list(pattern,server_name,token_name,token_value,site_id)"
   ]
  },
  {
   "cell_type": "code",
   "execution_count": 12,
   "metadata": {},
   "outputs": [
    {
     "data": {
      "text/html": [
       "<div>\n",
       "<style scoped>\n",
       "    .dataframe tbody tr th:only-of-type {\n",
       "        vertical-align: middle;\n",
       "    }\n",
       "\n",
       "    .dataframe tbody tr th {\n",
       "        vertical-align: top;\n",
       "    }\n",
       "\n",
       "    .dataframe thead th {\n",
       "        text-align: right;\n",
       "    }\n",
       "</style>\n",
       "<table border=\"1\" class=\"dataframe\">\n",
       "  <thead>\n",
       "    <tr style=\"text-align: right;\">\n",
       "      <th></th>\n",
       "      <th>name</th>\n",
       "      <th>wb_id</th>\n",
       "      <th>owner_id</th>\n",
       "      <th>wb_object</th>\n",
       "    </tr>\n",
       "  </thead>\n",
       "  <tbody>\n",
       "    <tr>\n",
       "      <th>0</th>\n",
       "      <td>Balance Sheet - Sandbox</td>\n",
       "      <td>8aaf2260-b08e-4f98-8929-74ebf0f3577a</td>\n",
       "      <td>5513ac2f-b6c2-4248-a71e-f08d78d7c76e</td>\n",
       "      <td>&lt;tableauserverclient.models.workbook_item.Work...</td>\n",
       "    </tr>\n",
       "    <tr>\n",
       "      <th>1</th>\n",
       "      <td>Income Statement - Sandbox</td>\n",
       "      <td>99729f01-2df6-484f-921f-ab3fdb7e12ee</td>\n",
       "      <td>0142af8f-a27f-44c5-9a62-ee2c986fed78</td>\n",
       "      <td>&lt;tableauserverclient.models.workbook_item.Work...</td>\n",
       "    </tr>\n",
       "    <tr>\n",
       "      <th>2</th>\n",
       "      <td>Statement of Cash Flow - Sandbox</td>\n",
       "      <td>8125f716-eeb6-49c6-8243-de57725e2ad3</td>\n",
       "      <td>c709306d-49a2-4c14-b932-0b0ca2a0750d</td>\n",
       "      <td>&lt;tableauserverclient.models.workbook_item.Work...</td>\n",
       "    </tr>\n",
       "    <tr>\n",
       "      <th>3</th>\n",
       "      <td>Financial Reporting Analytics - Sandbox</td>\n",
       "      <td>bf8b072b-7373-4ad6-b656-57d9c1098f52</td>\n",
       "      <td>0142af8f-a27f-44c5-9a62-ee2c986fed78</td>\n",
       "      <td>&lt;tableauserverclient.models.workbook_item.Work...</td>\n",
       "    </tr>\n",
       "    <tr>\n",
       "      <th>4</th>\n",
       "      <td>Branch Comparison - Sandbox</td>\n",
       "      <td>3ecba336-5fd6-4316-a117-923de0244694</td>\n",
       "      <td>0142af8f-a27f-44c5-9a62-ee2c986fed78</td>\n",
       "      <td>&lt;tableauserverclient.models.workbook_item.Work...</td>\n",
       "    </tr>\n",
       "  </tbody>\n",
       "</table>\n",
       "</div>"
      ],
      "text/plain": [
       "                                      name  \\\n",
       "0                  Balance Sheet - Sandbox   \n",
       "1               Income Statement - Sandbox   \n",
       "2         Statement of Cash Flow - Sandbox   \n",
       "3  Financial Reporting Analytics - Sandbox   \n",
       "4              Branch Comparison - Sandbox   \n",
       "\n",
       "                                  wb_id                              owner_id  \\\n",
       "0  8aaf2260-b08e-4f98-8929-74ebf0f3577a  5513ac2f-b6c2-4248-a71e-f08d78d7c76e   \n",
       "1  99729f01-2df6-484f-921f-ab3fdb7e12ee  0142af8f-a27f-44c5-9a62-ee2c986fed78   \n",
       "2  8125f716-eeb6-49c6-8243-de57725e2ad3  c709306d-49a2-4c14-b932-0b0ca2a0750d   \n",
       "3  bf8b072b-7373-4ad6-b656-57d9c1098f52  0142af8f-a27f-44c5-9a62-ee2c986fed78   \n",
       "4  3ecba336-5fd6-4316-a117-923de0244694  0142af8f-a27f-44c5-9a62-ee2c986fed78   \n",
       "\n",
       "                                           wb_object  \n",
       "0  <tableauserverclient.models.workbook_item.Work...  \n",
       "1  <tableauserverclient.models.workbook_item.Work...  \n",
       "2  <tableauserverclient.models.workbook_item.Work...  \n",
       "3  <tableauserverclient.models.workbook_item.Work...  \n",
       "4  <tableauserverclient.models.workbook_item.Work...  "
      ]
     },
     "execution_count": 12,
     "metadata": {},
     "output_type": "execute_result"
    }
   ],
   "source": [
    "df.head()"
   ]
  },
  {
   "cell_type": "code",
   "execution_count": 13,
   "metadata": {},
   "outputs": [
    {
     "name": "stdout",
     "output_type": "stream",
     "text": [
      "Connected to server\n",
      "Auth passed for refresh-token-ag\n",
      "Found workbook: Balance Sheet - Sandbox\n",
      "Job started 4ff7c6b1-0a5a-4b79-9667-89f5cd531cbe\n",
      "Found workbook: Income Statement - Sandbox\n",
      "Error executing job\n",
      "Failed to refresh workbook: 1\n",
      "Found workbook: Statement of Cash Flow - Sandbox\n",
      "Error executing job\n",
      "Failed to refresh workbook: 2\n",
      "Found workbook: Financial Reporting Analytics - Sandbox\n",
      "Error executing job\n",
      "Failed to refresh workbook: 3\n",
      "Found workbook: Branch Comparison - Sandbox\n",
      "Error executing job\n",
      "Failed to refresh workbook: 4\n",
      "Found workbook: Controllable Cost KPI's - sandbox\n",
      "Error executing job\n",
      "Failed to refresh workbook: 5\n",
      "Found workbook: Testing Workbook - SoCF Sandbox\n",
      "Error executing job\n",
      "Failed to refresh workbook: 6\n",
      "Num jobs started: 1\n"
     ]
    }
   ],
   "source": [
    "job_ids = tu.update_all_workbooks(df,server_name,token_name,token_value,site_id)"
   ]
  },
  {
   "cell_type": "code",
   "execution_count": 14,
   "metadata": {},
   "outputs": [
    {
     "name": "stdout",
     "output_type": "stream",
     "text": [
      "Connected to server\n",
      "Auth passed for refresh-token-ag\n",
      "Checking job id: 4ff7c6b1-0a5a-4b79-9667-89f5cd531cbe\n",
      "Error waiting for response for jobid: 4ff7c6b1-0a5a-4b79-9667-89f5cd531cbe\n"
     ]
    },
    {
     "ename": "JobFailedException",
     "evalue": "Job 4ff7c6b1-0a5a-4b79-9667-89f5cd531cbe failed with notes ['java.lang.RuntimeException: Missing password.\\nInvalid username or password.']",
     "output_type": "error",
     "traceback": [
      "\u001b[1;31m---------------------------------------------------------------------------\u001b[0m",
      "\u001b[1;31mJobFailedException\u001b[0m                        Traceback (most recent call last)",
      "\u001b[1;32mc:\\Users\\BenjaminBlankartz\\repo\\tableau-refresh-extract\\utils_testing.ipynb Cell 8'\u001b[0m in \u001b[0;36m<cell line: 1>\u001b[1;34m()\u001b[0m\n\u001b[1;32m----> <a href='vscode-notebook-cell:/c%3A/Users/BenjaminBlankartz/repo/tableau-refresh-extract/utils_testing.ipynb#ch0000007?line=0'>1</a>\u001b[0m tu\u001b[39m.\u001b[39;49mawait_by_group(job_ids,server_name,token_name,token_value,site_id)\n",
      "File \u001b[1;32mc:\\Users\\BenjaminBlankartz\\repo\\tableau-refresh-extract\\tableau_utils.py:147\u001b[0m, in \u001b[0;36mawait_by_group\u001b[1;34m(job_ids, server_name, token_name, token_value, site_id, report_job_failure)\u001b[0m\n\u001b[0;32m    <a href='file:///c%3A/Users/BenjaminBlankartz/repo/tableau-refresh-extract/tableau_utils.py?line=144'>145</a>\u001b[0m job_id \u001b[39m=\u001b[39m job\u001b[39m.\u001b[39mid\n\u001b[0;32m    <a href='file:///c%3A/Users/BenjaminBlankartz/repo/tableau-refresh-extract/tableau_utils.py?line=145'>146</a>\u001b[0m \u001b[39mprint\u001b[39m(\u001b[39m\"\u001b[39m\u001b[39mChecking job id: \u001b[39m\u001b[39m{}\u001b[39;00m\u001b[39m\"\u001b[39m\u001b[39m.\u001b[39mformat(job_id))\n\u001b[1;32m--> <a href='file:///c%3A/Users/BenjaminBlankartz/repo/tableau-refresh-extract/tableau_utils.py?line=146'>147</a>\u001b[0m job_details \u001b[39m=\u001b[39m _await_job(job_id,server,auth,timeout\u001b[39m=\u001b[39;49m\u001b[39m600\u001b[39;49m)\n\u001b[0;32m    <a href='file:///c%3A/Users/BenjaminBlankartz/repo/tableau-refresh-extract/tableau_utils.py?line=147'>148</a>\u001b[0m \u001b[39mprint\u001b[39m(\u001b[39m\"\u001b[39m\u001b[39mJob id: \u001b[39m\u001b[39m{0}\u001b[39;00m\u001b[39m completed at: \u001b[39m\u001b[39m{1}\u001b[39;00m\u001b[39m with code \u001b[39m\u001b[39m{2}\u001b[39;00m\u001b[39m\"\u001b[39m\u001b[39m.\u001b[39mformat(job_details\u001b[39m.\u001b[39mid,\n\u001b[0;32m    <a href='file:///c%3A/Users/BenjaminBlankartz/repo/tableau-refresh-extract/tableau_utils.py?line=148'>149</a>\u001b[0m                                     job_details\u001b[39m.\u001b[39mcompleted_at,\n\u001b[0;32m    <a href='file:///c%3A/Users/BenjaminBlankartz/repo/tableau-refresh-extract/tableau_utils.py?line=149'>150</a>\u001b[0m                                     job_details\u001b[39m.\u001b[39mfinish_code))\n\u001b[0;32m    <a href='file:///c%3A/Users/BenjaminBlankartz/repo/tableau-refresh-extract/tableau_utils.py?line=150'>151</a>\u001b[0m \u001b[39mif\u001b[39;00m(job_details\u001b[39m.\u001b[39mfinish_code \u001b[39m==\u001b[39m \u001b[39m1\u001b[39m):\n",
      "File \u001b[1;32mc:\\Users\\BenjaminBlankartz\\repo\\tableau-refresh-extract\\tableau_utils.py:94\u001b[0m, in \u001b[0;36m_await_job\u001b[1;34m(job_id, server, tableau_auth, timeout)\u001b[0m\n\u001b[0;32m     <a href='file:///c%3A/Users/BenjaminBlankartz/repo/tableau-refresh-extract/tableau_utils.py?line=88'>89</a>\u001b[0m \u001b[39mwith\u001b[39;00m server\u001b[39m.\u001b[39mauth\u001b[39m.\u001b[39msign_in(tableau_auth):\n\u001b[0;32m     <a href='file:///c%3A/Users/BenjaminBlankartz/repo/tableau-refresh-extract/tableau_utils.py?line=89'>90</a>\u001b[0m     \u001b[39mtry\u001b[39;00m:\n\u001b[0;32m     <a href='file:///c%3A/Users/BenjaminBlankartz/repo/tableau-refresh-extract/tableau_utils.py?line=90'>91</a>\u001b[0m         \u001b[39m#print(job_id)\u001b[39;00m\n\u001b[0;32m     <a href='file:///c%3A/Users/BenjaminBlankartz/repo/tableau-refresh-extract/tableau_utils.py?line=91'>92</a>\u001b[0m         \u001b[39m# Waits for job to complete \u001b[39;00m\n\u001b[0;32m     <a href='file:///c%3A/Users/BenjaminBlankartz/repo/tableau-refresh-extract/tableau_utils.py?line=92'>93</a>\u001b[0m         \u001b[39m# Finish code code = 1 is error\u001b[39;00m\n\u001b[1;32m---> <a href='file:///c%3A/Users/BenjaminBlankartz/repo/tableau-refresh-extract/tableau_utils.py?line=93'>94</a>\u001b[0m         jobinfo \u001b[39m=\u001b[39m server\u001b[39m.\u001b[39;49mjobs\u001b[39m.\u001b[39;49mwait_for_job(job_id,timeout\u001b[39m=\u001b[39;49mtimeout)\n\u001b[0;32m     <a href='file:///c%3A/Users/BenjaminBlankartz/repo/tableau-refresh-extract/tableau_utils.py?line=94'>95</a>\u001b[0m         \u001b[39m#print(jobinfo)\u001b[39;00m\n\u001b[0;32m     <a href='file:///c%3A/Users/BenjaminBlankartz/repo/tableau-refresh-extract/tableau_utils.py?line=95'>96</a>\u001b[0m         \u001b[39m#print(\"Job finished with code: {}\".format(jobinfo.finish_code))\u001b[39;00m\n\u001b[0;32m     <a href='file:///c%3A/Users/BenjaminBlankartz/repo/tableau-refresh-extract/tableau_utils.py?line=96'>97</a>\u001b[0m     \u001b[39mexcept\u001b[39;00m:\n",
      "File \u001b[1;32mc:\\Users\\BenjaminBlankartz\\repo\\tableau-refresh-extract\\env\\lib\\site-packages\\tableauserverclient\\server\\endpoint\\endpoint.py:177\u001b[0m, in \u001b[0;36mapi.<locals>._decorator.<locals>.wrapper\u001b[1;34m(self, *args, **kwargs)\u001b[0m\n\u001b[0;32m    <a href='file:///c%3A/Users/BenjaminBlankartz/repo/tableau-refresh-extract/env/lib/site-packages/tableauserverclient/server/endpoint/endpoint.py?line=173'>174</a>\u001b[0m \u001b[39m@wraps\u001b[39m(func)\n\u001b[0;32m    <a href='file:///c%3A/Users/BenjaminBlankartz/repo/tableau-refresh-extract/env/lib/site-packages/tableauserverclient/server/endpoint/endpoint.py?line=174'>175</a>\u001b[0m \u001b[39mdef\u001b[39;00m \u001b[39mwrapper\u001b[39m(\u001b[39mself\u001b[39m, \u001b[39m*\u001b[39margs, \u001b[39m*\u001b[39m\u001b[39m*\u001b[39mkwargs):\n\u001b[0;32m    <a href='file:///c%3A/Users/BenjaminBlankartz/repo/tableau-refresh-extract/env/lib/site-packages/tableauserverclient/server/endpoint/endpoint.py?line=175'>176</a>\u001b[0m     \u001b[39mself\u001b[39m\u001b[39m.\u001b[39mparent_srv\u001b[39m.\u001b[39massert_at_least_version(version)\n\u001b[1;32m--> <a href='file:///c%3A/Users/BenjaminBlankartz/repo/tableau-refresh-extract/env/lib/site-packages/tableauserverclient/server/endpoint/endpoint.py?line=176'>177</a>\u001b[0m     \u001b[39mreturn\u001b[39;00m func(\u001b[39mself\u001b[39;49m, \u001b[39m*\u001b[39;49margs, \u001b[39m*\u001b[39;49m\u001b[39m*\u001b[39;49mkwargs)\n",
      "File \u001b[1;32mc:\\Users\\BenjaminBlankartz\\repo\\tableau-refresh-extract\\env\\lib\\site-packages\\tableauserverclient\\server\\endpoint\\jobs_endpoint.py:66\u001b[0m, in \u001b[0;36mJobs.wait_for_job\u001b[1;34m(self, job_id, timeout)\u001b[0m\n\u001b[0;32m     <a href='file:///c%3A/Users/BenjaminBlankartz/repo/tableau-refresh-extract/env/lib/site-packages/tableauserverclient/server/endpoint/jobs_endpoint.py?line=63'>64</a>\u001b[0m     \u001b[39mreturn\u001b[39;00m job\n\u001b[0;32m     <a href='file:///c%3A/Users/BenjaminBlankartz/repo/tableau-refresh-extract/env/lib/site-packages/tableauserverclient/server/endpoint/jobs_endpoint.py?line=64'>65</a>\u001b[0m \u001b[39melif\u001b[39;00m job\u001b[39m.\u001b[39mfinish_code \u001b[39m==\u001b[39m JobItem\u001b[39m.\u001b[39mFinishCode\u001b[39m.\u001b[39mFailed:\n\u001b[1;32m---> <a href='file:///c%3A/Users/BenjaminBlankartz/repo/tableau-refresh-extract/env/lib/site-packages/tableauserverclient/server/endpoint/jobs_endpoint.py?line=65'>66</a>\u001b[0m     \u001b[39mraise\u001b[39;00m JobFailedException(job)\n\u001b[0;32m     <a href='file:///c%3A/Users/BenjaminBlankartz/repo/tableau-refresh-extract/env/lib/site-packages/tableauserverclient/server/endpoint/jobs_endpoint.py?line=66'>67</a>\u001b[0m \u001b[39melif\u001b[39;00m job\u001b[39m.\u001b[39mfinish_code \u001b[39m==\u001b[39m JobItem\u001b[39m.\u001b[39mFinishCode\u001b[39m.\u001b[39mCancelled:\n\u001b[0;32m     <a href='file:///c%3A/Users/BenjaminBlankartz/repo/tableau-refresh-extract/env/lib/site-packages/tableauserverclient/server/endpoint/jobs_endpoint.py?line=67'>68</a>\u001b[0m     \u001b[39mraise\u001b[39;00m JobCancelledException(job)\n",
      "\u001b[1;31mJobFailedException\u001b[0m: Job 4ff7c6b1-0a5a-4b79-9667-89f5cd531cbe failed with notes ['java.lang.RuntimeException: Missing password.\\nInvalid username or password.']"
     ]
    }
   ],
   "source": [
    "tu.await_by_group(job_ids,server_name,token_name,token_value,site_id)"
   ]
  }
 ],
 "metadata": {
  "interpreter": {
   "hash": "4e8696f1c3a6fa4be86fd4b34bade07a7c5a1df25703c354e41552226adbf6f3"
  },
  "kernelspec": {
   "display_name": "Python 3.8.0 ('env': venv)",
   "language": "python",
   "name": "python3"
  },
  "language_info": {
   "codemirror_mode": {
    "name": "ipython",
    "version": 3
   },
   "file_extension": ".py",
   "mimetype": "text/x-python",
   "name": "python",
   "nbconvert_exporter": "python",
   "pygments_lexer": "ipython3",
   "version": "3.8.0"
  },
  "orig_nbformat": 4
 },
 "nbformat": 4,
 "nbformat_minor": 2
}
