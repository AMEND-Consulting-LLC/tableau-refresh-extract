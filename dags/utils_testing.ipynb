{
 "cells": [
  {
   "cell_type": "markdown",
   "metadata": {},
   "source": []
  },
  {
   "cell_type": "code",
   "execution_count": 2,
   "metadata": {},
   "outputs": [],
   "source": [
    "import tableauserverclient as tsc\n",
    "import pandas as pd\n",
    "import tableau_utils as tu"
   ]
  },
  {
   "cell_type": "code",
   "execution_count": 3,
   "metadata": {},
   "outputs": [],
   "source": [
    "user = \"blankartz@amendllc.com\"\n",
    "password = \"<pass>\"\n",
    "site_id = \"statewidesafetysystems\"\n",
    "\n",
    "# Ben\n",
    "#token_name = \"tableau-refresh-test\"\n",
    "#token_value = \"74l5rXGSTfCt8+Ui/HacXQ==:uxxROtbQvKx3kWbiP6oqvWfmFb1jyfW7\"\n",
    "\n",
    "# Andrea\n",
    "token_name = \"refresh-token-ag\"\n",
    "token_value = \"53MOfbqBRxSxCgMCrYWukw==:YE5j6jKyT2l3aI5U7Ud8D4VC32b2Ef2f\"\n",
    "\n",
    "server_name = 'https://10ay.online.tableau.com/'"
   ]
  },
  {
   "cell_type": "code",
   "execution_count": 4,
   "metadata": {},
   "outputs": [
    {
     "name": "stdout",
     "output_type": "stream",
     "text": [
      "Connected to server\n",
      "Auth passed for refresh-token-ag\n"
     ]
    },
    {
     "data": {
      "text/plain": [
       "<PersonalAccessToken name=refresh-token-ag token=53MOfbqBRxSxCgMCrYWukw==:YE5j6jKyT2l3aI5U7Ud8D4VC32b2Ef2f>"
      ]
     },
     "execution_count": 4,
     "metadata": {},
     "output_type": "execute_result"
    }
   ],
   "source": [
    "server = tu._connect_server(server_name)\n",
    "tu._connection_builder(token_name,token_value,site_id,server)"
   ]
  },
  {
   "cell_type": "code",
   "execution_count": 4,
   "metadata": {},
   "outputs": [
    {
     "name": "stdout",
     "output_type": "stream",
     "text": [
      "Connected to server\n",
      "Auth passed for refresh-token-ag\n",
      "Retrieved workbooks\n"
     ]
    }
   ],
   "source": [
    "pattern = \"Financial Statements - Sandbox\"\n",
    "df = tu.retreive_workbook_list(pattern,server_name,token_name,token_value,site_id)"
   ]
  },
  {
   "cell_type": "code",
   "execution_count": 5,
   "metadata": {},
   "outputs": [
    {
     "data": {
      "text/html": [
       "<div>\n",
       "<style scoped>\n",
       "    .dataframe tbody tr th:only-of-type {\n",
       "        vertical-align: middle;\n",
       "    }\n",
       "\n",
       "    .dataframe tbody tr th {\n",
       "        vertical-align: top;\n",
       "    }\n",
       "\n",
       "    .dataframe thead th {\n",
       "        text-align: right;\n",
       "    }\n",
       "</style>\n",
       "<table border=\"1\" class=\"dataframe\">\n",
       "  <thead>\n",
       "    <tr style=\"text-align: right;\">\n",
       "      <th></th>\n",
       "      <th>name</th>\n",
       "      <th>wb_id</th>\n",
       "      <th>owner_id</th>\n",
       "      <th>wb_object</th>\n",
       "    </tr>\n",
       "  </thead>\n",
       "  <tbody>\n",
       "    <tr>\n",
       "      <th>0</th>\n",
       "      <td>Balance Sheet - Sandbox</td>\n",
       "      <td>8aaf2260-b08e-4f98-8929-74ebf0f3577a</td>\n",
       "      <td>5513ac2f-b6c2-4248-a71e-f08d78d7c76e</td>\n",
       "      <td>&lt;tableauserverclient.models.workbook_item.Work...</td>\n",
       "    </tr>\n",
       "    <tr>\n",
       "      <th>1</th>\n",
       "      <td>Income Statement - Sandbox</td>\n",
       "      <td>99729f01-2df6-484f-921f-ab3fdb7e12ee</td>\n",
       "      <td>0142af8f-a27f-44c5-9a62-ee2c986fed78</td>\n",
       "      <td>&lt;tableauserverclient.models.workbook_item.Work...</td>\n",
       "    </tr>\n",
       "    <tr>\n",
       "      <th>2</th>\n",
       "      <td>Statement of Cash Flow - Sandbox</td>\n",
       "      <td>8125f716-eeb6-49c6-8243-de57725e2ad3</td>\n",
       "      <td>c709306d-49a2-4c14-b932-0b0ca2a0750d</td>\n",
       "      <td>&lt;tableauserverclient.models.workbook_item.Work...</td>\n",
       "    </tr>\n",
       "    <tr>\n",
       "      <th>3</th>\n",
       "      <td>Financial Reporting Analytics - Sandbox</td>\n",
       "      <td>bf8b072b-7373-4ad6-b656-57d9c1098f52</td>\n",
       "      <td>0142af8f-a27f-44c5-9a62-ee2c986fed78</td>\n",
       "      <td>&lt;tableauserverclient.models.workbook_item.Work...</td>\n",
       "    </tr>\n",
       "    <tr>\n",
       "      <th>4</th>\n",
       "      <td>Branch Comparison - Sandbox</td>\n",
       "      <td>3ecba336-5fd6-4316-a117-923de0244694</td>\n",
       "      <td>0142af8f-a27f-44c5-9a62-ee2c986fed78</td>\n",
       "      <td>&lt;tableauserverclient.models.workbook_item.Work...</td>\n",
       "    </tr>\n",
       "  </tbody>\n",
       "</table>\n",
       "</div>"
      ],
      "text/plain": [
       "                                      name  \\\n",
       "0                  Balance Sheet - Sandbox   \n",
       "1               Income Statement - Sandbox   \n",
       "2         Statement of Cash Flow - Sandbox   \n",
       "3  Financial Reporting Analytics - Sandbox   \n",
       "4              Branch Comparison - Sandbox   \n",
       "\n",
       "                                  wb_id                              owner_id  \\\n",
       "0  8aaf2260-b08e-4f98-8929-74ebf0f3577a  5513ac2f-b6c2-4248-a71e-f08d78d7c76e   \n",
       "1  99729f01-2df6-484f-921f-ab3fdb7e12ee  0142af8f-a27f-44c5-9a62-ee2c986fed78   \n",
       "2  8125f716-eeb6-49c6-8243-de57725e2ad3  c709306d-49a2-4c14-b932-0b0ca2a0750d   \n",
       "3  bf8b072b-7373-4ad6-b656-57d9c1098f52  0142af8f-a27f-44c5-9a62-ee2c986fed78   \n",
       "4  3ecba336-5fd6-4316-a117-923de0244694  0142af8f-a27f-44c5-9a62-ee2c986fed78   \n",
       "\n",
       "                                           wb_object  \n",
       "0  <tableauserverclient.models.workbook_item.Work...  \n",
       "1  <tableauserverclient.models.workbook_item.Work...  \n",
       "2  <tableauserverclient.models.workbook_item.Work...  \n",
       "3  <tableauserverclient.models.workbook_item.Work...  \n",
       "4  <tableauserverclient.models.workbook_item.Work...  "
      ]
     },
     "execution_count": 5,
     "metadata": {},
     "output_type": "execute_result"
    }
   ],
   "source": [
    "df.head()"
   ]
  },
  {
   "cell_type": "code",
   "execution_count": 6,
   "metadata": {},
   "outputs": [
    {
     "name": "stdout",
     "output_type": "stream",
     "text": [
      "Connected to server\n",
      "Auth passed for refresh-token-ag\n",
      "Found workbook: Balance Sheet - Sandbox\n",
      "Job started c29e572b-1729-4ff4-85c3-3a0c231c8f29\n",
      "Found workbook: Income Statement - Sandbox\n",
      "Error executing job \n",
      "\n",
      "\t403076: Forbidden\n",
      "\t\t'gergel@amendllc.com' isn't authorized to refresh workbook '99729f01-2df6-484f-921f-ab3fdb7e12ee'.\n",
      "Failed to refresh workbook: 1\n",
      "Found workbook: Statement of Cash Flow - Sandbox\n",
      "Error executing job \n",
      "\n",
      "\t403076: Forbidden\n",
      "\t\t'gergel@amendllc.com' isn't authorized to refresh workbook '8125f716-eeb6-49c6-8243-de57725e2ad3'.\n",
      "Failed to refresh workbook: 2\n",
      "Found workbook: Financial Reporting Analytics - Sandbox\n",
      "Error executing job \n",
      "\n",
      "\t403076: Forbidden\n",
      "\t\t'gergel@amendllc.com' isn't authorized to refresh workbook 'bf8b072b-7373-4ad6-b656-57d9c1098f52'.\n",
      "Failed to refresh workbook: 3\n",
      "Found workbook: Branch Comparison - Sandbox\n",
      "Error executing job \n",
      "\n",
      "\t403076: Forbidden\n",
      "\t\t'gergel@amendllc.com' isn't authorized to refresh workbook '3ecba336-5fd6-4316-a117-923de0244694'.\n",
      "Failed to refresh workbook: 4\n",
      "Found workbook: Controllable Cost KPI's - sandbox\n",
      "Error executing job \n",
      "\n",
      "\t403076: Forbidden\n",
      "\t\t'gergel@amendllc.com' isn't authorized to refresh workbook 'cc713c90-fc4f-400f-80b0-510a22c31754'.\n",
      "Failed to refresh workbook: 5\n",
      "Found workbook: Testing Workbook - SoCF Sandbox\n",
      "Error executing job \n",
      "\n",
      "\t403076: Forbidden\n",
      "\t\t'gergel@amendllc.com' isn't authorized to refresh workbook 'c4fb9373-84ee-4125-a9df-4d9c428b8c3c'.\n",
      "Failed to refresh workbook: 6\n",
      "Num jobs started: 1\n"
     ]
    }
   ],
   "source": [
    "job_ids = tu.update_all_workbooks(df,server_name,token_name,token_value,site_id)"
   ]
  },
  {
   "cell_type": "code",
   "execution_count": 5,
   "metadata": {},
   "outputs": [
    {
     "name": "stdout",
     "output_type": "stream",
     "text": [
      "Connected to server\n",
      "Auth passed for refresh-token-ag\n",
      "Checking job id: 10994940-7575-4390-a907-4535858999bf\n",
      "Job id: 10994940-7575-4390-a907-4535858999bf completed at: 2022-05-11 16:14:46+00:00 with code 0\n"
     ]
    },
    {
     "data": {
      "text/plain": [
       "0"
      ]
     },
     "execution_count": 5,
     "metadata": {},
     "output_type": "execute_result"
    }
   ],
   "source": [
    "job_ids = ['10994940-7575-4390-a907-4535858999bf']\n",
    "tu.await_by_group(job_ids,server_name,token_name,token_value,site_id)"
   ]
  }
 ],
 "metadata": {
  "interpreter": {
   "hash": "7c3bae01be67009406f9ea97d2439f086d3795ee872c72f99585bc7e9dc83d5d"
  },
  "kernelspec": {
   "display_name": "Python 3.10.4 ('env': venv)",
   "language": "python",
   "name": "python3"
  },
  "language_info": {
   "codemirror_mode": {
    "name": "ipython",
    "version": 3
   },
   "file_extension": ".py",
   "mimetype": "text/x-python",
   "name": "python",
   "nbconvert_exporter": "python",
   "pygments_lexer": "ipython3",
   "version": "3.10.4"
  },
  "orig_nbformat": 4
 },
 "nbformat": 4,
 "nbformat_minor": 2
}
