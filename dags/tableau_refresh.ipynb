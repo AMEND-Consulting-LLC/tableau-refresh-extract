{
 "cells": [
  {
   "cell_type": "code",
   "execution_count": 10,
   "metadata": {},
   "outputs": [],
   "source": [
    "import tableauserverclient as tsc\n",
    "import pandas as pd"
   ]
  },
  {
   "cell_type": "code",
   "execution_count": 11,
   "metadata": {},
   "outputs": [],
   "source": [
    "user = \"blankartz@amendllc.com\"\n",
    "password = \"<pass>\"\n",
    "site_id = \"statewidesafetysystems\""
   ]
  },
  {
   "cell_type": "code",
   "execution_count": 12,
   "metadata": {},
   "outputs": [],
   "source": [
    "#tableau_auth = tsc.TableauAuth(user,password,site_id=site_id)\n"
   ]
  },
  {
   "cell_type": "code",
   "execution_count": 13,
   "metadata": {},
   "outputs": [],
   "source": [
    "# Ben\n",
    "#token_name = \"tableau-refresh-test\"\n",
    "#token_value = \"74l5rXGSTfCt8+Ui/HacXQ==:uxxROtbQvKx3kWbiP6oqvWfmFb1jyfW7\"\n",
    "\n",
    "#andrea\n",
    "token_name = \"refresh-token-ag\"\n",
    "token_value = \"53MOfbqBRxSxCgMCrYWukw==:YE5j6jKyT2l3aI5U7Ud8D4VC32b2Ef2f\""
   ]
  },
  {
   "cell_type": "code",
   "execution_count": null,
   "metadata": {},
   "outputs": [],
   "source": []
  },
  {
   "cell_type": "code",
   "execution_count": 14,
   "metadata": {},
   "outputs": [
    {
     "data": {
      "text/plain": [
       "<PersonalAccessToken name=refresh-token-ag token=53MOfbqBRxSxCgMCrYWukw==:YE5j6jKyT2l3aI5U7Ud8D4VC32b2Ef2f>"
      ]
     },
     "execution_count": 14,
     "metadata": {},
     "output_type": "execute_result"
    }
   ],
   "source": [
    "tableau_auth = tsc.PersonalAccessTokenAuth(token_name,token_value,site_id=site_id)\n",
    "tableau_auth"
   ]
  },
  {
   "cell_type": "code",
   "execution_count": 15,
   "metadata": {},
   "outputs": [
    {
     "data": {
      "text/plain": [
       "<tableauserverclient.server.server.Server at 0x23561d890a0>"
      ]
     },
     "execution_count": 15,
     "metadata": {},
     "output_type": "execute_result"
    }
   ],
   "source": [
    "server = tsc.Server('https://10ay.online.tableau.com/', use_server_version=True)\n",
    "server"
   ]
  },
  {
   "cell_type": "code",
   "execution_count": 16,
   "metadata": {},
   "outputs": [],
   "source": [
    "req_option = tsc.RequestOptions()\n",
    "req_option.filter.add(tsc.Filter(tsc.RequestOptions.Field.ProjectName,\n",
    "                                 tsc.RequestOptions.Operator.Equals,\n",
    "                                 \"Financial Statements - Sandbox\"))"
   ]
  },
  {
   "cell_type": "code",
   "execution_count": 17,
   "metadata": {},
   "outputs": [
    {
     "name": "stdout",
     "output_type": "stream",
     "text": [
      "<tableauserverclient.models.workbook_item.WorkbookItem object at 0x0000023562AF1C10>\n",
      "Balance Sheet - Sandbox 8aaf2260-b08e-4f98-8929-74ebf0f3577a\n",
      "5513ac2f-b6c2-4248-a71e-f08d78d7c76e\n",
      "<tableauserverclient.models.workbook_item.WorkbookItem object at 0x0000023562AF1DF0>\n",
      "Income Statement - Sandbox 99729f01-2df6-484f-921f-ab3fdb7e12ee\n",
      "0142af8f-a27f-44c5-9a62-ee2c986fed78\n",
      "<tableauserverclient.models.workbook_item.WorkbookItem object at 0x0000023562AF1A30>\n",
      "Statement of Cash Flow - Sandbox 8125f716-eeb6-49c6-8243-de57725e2ad3\n",
      "c709306d-49a2-4c14-b932-0b0ca2a0750d\n",
      "<tableauserverclient.models.workbook_item.WorkbookItem object at 0x0000023562AFB040>\n",
      "Financial Reporting Analytics - Sandbox bf8b072b-7373-4ad6-b656-57d9c1098f52\n",
      "0142af8f-a27f-44c5-9a62-ee2c986fed78\n",
      "<tableauserverclient.models.workbook_item.WorkbookItem object at 0x0000023562AFB0D0>\n",
      "Branch Comparison - Sandbox 3ecba336-5fd6-4316-a117-923de0244694\n",
      "0142af8f-a27f-44c5-9a62-ee2c986fed78\n",
      "<tableauserverclient.models.workbook_item.WorkbookItem object at 0x0000023562AFB190>\n",
      "Controllable Cost KPI's - sandbox cc713c90-fc4f-400f-80b0-510a22c31754\n",
      "0142af8f-a27f-44c5-9a62-ee2c986fed78\n",
      "<tableauserverclient.models.workbook_item.WorkbookItem object at 0x0000023562AFB220>\n",
      "Testing Workbook - SoCF Sandbox c4fb9373-84ee-4125-a9df-4d9c428b8c3c\n",
      "c709306d-49a2-4c14-b932-0b0ca2a0750d\n"
     ]
    }
   ],
   "source": [
    "with server.auth.sign_in(tableau_auth):  \n",
    "    all_workbooks_items, pagination_item = server.workbooks.get(req_option)\n",
    "    # print names of first 100 workbooks\n",
    "    for workbook in all_workbooks_items:\n",
    "        print(workbook)\n",
    "        print(workbook.name, workbook.id)\n",
    "        print(workbook.owner_id)\n"
   ]
  },
  {
   "cell_type": "code",
   "execution_count": 18,
   "metadata": {},
   "outputs": [
    {
     "ename": "ServerResponseError",
     "evalue": "\n\n\t403000: Forbidden\n\t\t'gergel@amendllc.com' isn't authorized to query users on site 'bb9faedf-b881-4f80-becf-43a7e44a2741'.",
     "output_type": "error",
     "traceback": [
      "\u001b[1;31m---------------------------------------------------------------------------\u001b[0m",
      "\u001b[1;31mServerResponseError\u001b[0m                       Traceback (most recent call last)",
      "\u001b[1;32mc:\\Users\\BenjaminBlankartz\\repo\\tableau-refresh-extract\\tableau_refresh.ipynb Cell 10'\u001b[0m in \u001b[0;36m<cell line: 1>\u001b[1;34m()\u001b[0m\n\u001b[0;32m      <a href='vscode-notebook-cell:/c%3A/Users/BenjaminBlankartz/repo/tableau-refresh-extract/tableau_refresh.ipynb#ch0000012?line=0'>1</a>\u001b[0m \u001b[39mwith\u001b[39;00m server\u001b[39m.\u001b[39mauth\u001b[39m.\u001b[39msign_in(tableau_auth):\n\u001b[1;32m----> <a href='vscode-notebook-cell:/c%3A/Users/BenjaminBlankartz/repo/tableau-refresh-extract/tableau_refresh.ipynb#ch0000012?line=1'>2</a>\u001b[0m     all_users, pagination_item \u001b[39m=\u001b[39m server\u001b[39m.\u001b[39;49musers\u001b[39m.\u001b[39;49mget()\n\u001b[0;32m      <a href='vscode-notebook-cell:/c%3A/Users/BenjaminBlankartz/repo/tableau-refresh-extract/tableau_refresh.ipynb#ch0000012?line=2'>3</a>\u001b[0m     \u001b[39mprint\u001b[39m(\u001b[39m\"\u001b[39m\u001b[39m\\n\u001b[39;00m\u001b[39mThere are \u001b[39m\u001b[39m{}\u001b[39;00m\u001b[39m user on site: \u001b[39m\u001b[39m\"\u001b[39m\u001b[39m.\u001b[39mformat(pagination_item\u001b[39m.\u001b[39mtotal_available))\n\u001b[0;32m      <a href='vscode-notebook-cell:/c%3A/Users/BenjaminBlankartz/repo/tableau-refresh-extract/tableau_refresh.ipynb#ch0000012?line=3'>4</a>\u001b[0m     \u001b[39mprint\u001b[39m([user\u001b[39m.\u001b[39mname \u001b[39mfor\u001b[39;00m user \u001b[39min\u001b[39;00m all_users])\n",
      "File \u001b[1;32mc:\\Users\\BenjaminBlankartz\\repo\\tableau-refresh-extract\\env\\lib\\site-packages\\tableauserverclient\\server\\endpoint\\endpoint.py:177\u001b[0m, in \u001b[0;36mapi.<locals>._decorator.<locals>.wrapper\u001b[1;34m(self, *args, **kwargs)\u001b[0m\n\u001b[0;32m    <a href='file:///c%3A/Users/BenjaminBlankartz/repo/tableau-refresh-extract/env/lib/site-packages/tableauserverclient/server/endpoint/endpoint.py?line=173'>174</a>\u001b[0m \u001b[39m@wraps\u001b[39m(func)\n\u001b[0;32m    <a href='file:///c%3A/Users/BenjaminBlankartz/repo/tableau-refresh-extract/env/lib/site-packages/tableauserverclient/server/endpoint/endpoint.py?line=174'>175</a>\u001b[0m \u001b[39mdef\u001b[39;00m \u001b[39mwrapper\u001b[39m(\u001b[39mself\u001b[39m, \u001b[39m*\u001b[39margs, \u001b[39m*\u001b[39m\u001b[39m*\u001b[39mkwargs):\n\u001b[0;32m    <a href='file:///c%3A/Users/BenjaminBlankartz/repo/tableau-refresh-extract/env/lib/site-packages/tableauserverclient/server/endpoint/endpoint.py?line=175'>176</a>\u001b[0m     \u001b[39mself\u001b[39m\u001b[39m.\u001b[39mparent_srv\u001b[39m.\u001b[39massert_at_least_version(version)\n\u001b[1;32m--> <a href='file:///c%3A/Users/BenjaminBlankartz/repo/tableau-refresh-extract/env/lib/site-packages/tableauserverclient/server/endpoint/endpoint.py?line=176'>177</a>\u001b[0m     \u001b[39mreturn\u001b[39;00m func(\u001b[39mself\u001b[39;49m, \u001b[39m*\u001b[39;49margs, \u001b[39m*\u001b[39;49m\u001b[39m*\u001b[39;49mkwargs)\n",
      "File \u001b[1;32mc:\\Users\\BenjaminBlankartz\\repo\\tableau-refresh-extract\\env\\lib\\site-packages\\tableauserverclient\\server\\endpoint\\users_endpoint.py:34\u001b[0m, in \u001b[0;36mUsers.get\u001b[1;34m(self, req_options)\u001b[0m\n\u001b[0;32m     <a href='file:///c%3A/Users/BenjaminBlankartz/repo/tableau-refresh-extract/env/lib/site-packages/tableauserverclient/server/endpoint/users_endpoint.py?line=30'>31</a>\u001b[0m req_options\u001b[39m.\u001b[39m_all_fields \u001b[39m=\u001b[39m \u001b[39mTrue\u001b[39;00m\n\u001b[0;32m     <a href='file:///c%3A/Users/BenjaminBlankartz/repo/tableau-refresh-extract/env/lib/site-packages/tableauserverclient/server/endpoint/users_endpoint.py?line=32'>33</a>\u001b[0m url \u001b[39m=\u001b[39m \u001b[39mself\u001b[39m\u001b[39m.\u001b[39mbaseurl\n\u001b[1;32m---> <a href='file:///c%3A/Users/BenjaminBlankartz/repo/tableau-refresh-extract/env/lib/site-packages/tableauserverclient/server/endpoint/users_endpoint.py?line=33'>34</a>\u001b[0m server_response \u001b[39m=\u001b[39m \u001b[39mself\u001b[39;49m\u001b[39m.\u001b[39;49mget_request(url, req_options)\n\u001b[0;32m     <a href='file:///c%3A/Users/BenjaminBlankartz/repo/tableau-refresh-extract/env/lib/site-packages/tableauserverclient/server/endpoint/users_endpoint.py?line=34'>35</a>\u001b[0m pagination_item \u001b[39m=\u001b[39m PaginationItem\u001b[39m.\u001b[39mfrom_response(server_response\u001b[39m.\u001b[39mcontent, \u001b[39mself\u001b[39m\u001b[39m.\u001b[39mparent_srv\u001b[39m.\u001b[39mnamespace)\n\u001b[0;32m     <a href='file:///c%3A/Users/BenjaminBlankartz/repo/tableau-refresh-extract/env/lib/site-packages/tableauserverclient/server/endpoint/users_endpoint.py?line=35'>36</a>\u001b[0m all_user_items \u001b[39m=\u001b[39m UserItem\u001b[39m.\u001b[39mfrom_response(server_response\u001b[39m.\u001b[39mcontent, \u001b[39mself\u001b[39m\u001b[39m.\u001b[39mparent_srv\u001b[39m.\u001b[39mnamespace)\n",
      "File \u001b[1;32mc:\\Users\\BenjaminBlankartz\\repo\\tableau-refresh-extract\\env\\lib\\site-packages\\tableauserverclient\\server\\endpoint\\endpoint.py:112\u001b[0m, in \u001b[0;36mEndpoint.get_request\u001b[1;34m(self, url, request_object, parameters)\u001b[0m\n\u001b[0;32m    <a href='file:///c%3A/Users/BenjaminBlankartz/repo/tableau-refresh-extract/env/lib/site-packages/tableauserverclient/server/endpoint/endpoint.py?line=108'>109</a>\u001b[0m     \u001b[39mexcept\u001b[39;00m EndpointUnavailableError:\n\u001b[0;32m    <a href='file:///c%3A/Users/BenjaminBlankartz/repo/tableau-refresh-extract/env/lib/site-packages/tableauserverclient/server/endpoint/endpoint.py?line=109'>110</a>\u001b[0m         url \u001b[39m=\u001b[39m request_object\u001b[39m.\u001b[39mapply_query_params(url)\n\u001b[1;32m--> <a href='file:///c%3A/Users/BenjaminBlankartz/repo/tableau-refresh-extract/env/lib/site-packages/tableauserverclient/server/endpoint/endpoint.py?line=111'>112</a>\u001b[0m \u001b[39mreturn\u001b[39;00m \u001b[39mself\u001b[39;49m\u001b[39m.\u001b[39;49m_make_request(\n\u001b[0;32m    <a href='file:///c%3A/Users/BenjaminBlankartz/repo/tableau-refresh-extract/env/lib/site-packages/tableauserverclient/server/endpoint/endpoint.py?line=112'>113</a>\u001b[0m     \u001b[39mself\u001b[39;49m\u001b[39m.\u001b[39;49mparent_srv\u001b[39m.\u001b[39;49msession\u001b[39m.\u001b[39;49mget,\n\u001b[0;32m    <a href='file:///c%3A/Users/BenjaminBlankartz/repo/tableau-refresh-extract/env/lib/site-packages/tableauserverclient/server/endpoint/endpoint.py?line=113'>114</a>\u001b[0m     url,\n\u001b[0;32m    <a href='file:///c%3A/Users/BenjaminBlankartz/repo/tableau-refresh-extract/env/lib/site-packages/tableauserverclient/server/endpoint/endpoint.py?line=114'>115</a>\u001b[0m     auth_token\u001b[39m=\u001b[39;49m\u001b[39mself\u001b[39;49m\u001b[39m.\u001b[39;49mparent_srv\u001b[39m.\u001b[39;49mauth_token,\n\u001b[0;32m    <a href='file:///c%3A/Users/BenjaminBlankartz/repo/tableau-refresh-extract/env/lib/site-packages/tableauserverclient/server/endpoint/endpoint.py?line=115'>116</a>\u001b[0m     parameters\u001b[39m=\u001b[39;49mparameters,\n\u001b[0;32m    <a href='file:///c%3A/Users/BenjaminBlankartz/repo/tableau-refresh-extract/env/lib/site-packages/tableauserverclient/server/endpoint/endpoint.py?line=116'>117</a>\u001b[0m )\n",
      "File \u001b[1;32mc:\\Users\\BenjaminBlankartz\\repo\\tableau-refresh-extract\\env\\lib\\site-packages\\tableauserverclient\\server\\endpoint\\endpoint.py:71\u001b[0m, in \u001b[0;36mEndpoint._make_request\u001b[1;34m(self, method, url, content, auth_token, content_type, parameters)\u001b[0m\n\u001b[0;32m     <a href='file:///c%3A/Users/BenjaminBlankartz/repo/tableau-refresh-extract/env/lib/site-packages/tableauserverclient/server/endpoint/endpoint.py?line=68'>69</a>\u001b[0m server_response \u001b[39m=\u001b[39m method(url, \u001b[39m*\u001b[39m\u001b[39m*\u001b[39mparameters)\n\u001b[0;32m     <a href='file:///c%3A/Users/BenjaminBlankartz/repo/tableau-refresh-extract/env/lib/site-packages/tableauserverclient/server/endpoint/endpoint.py?line=69'>70</a>\u001b[0m \u001b[39mself\u001b[39m\u001b[39m.\u001b[39mparent_srv\u001b[39m.\u001b[39m_namespace\u001b[39m.\u001b[39mdetect(server_response\u001b[39m.\u001b[39mcontent)\n\u001b[1;32m---> <a href='file:///c%3A/Users/BenjaminBlankartz/repo/tableau-refresh-extract/env/lib/site-packages/tableauserverclient/server/endpoint/endpoint.py?line=70'>71</a>\u001b[0m \u001b[39mself\u001b[39;49m\u001b[39m.\u001b[39;49m_check_status(server_response)\n\u001b[0;32m     <a href='file:///c%3A/Users/BenjaminBlankartz/repo/tableau-refresh-extract/env/lib/site-packages/tableauserverclient/server/endpoint/endpoint.py?line=72'>73</a>\u001b[0m \u001b[39m# This check is to determine if the response is a text response (xml or otherwise)\u001b[39;00m\n\u001b[0;32m     <a href='file:///c%3A/Users/BenjaminBlankartz/repo/tableau-refresh-extract/env/lib/site-packages/tableauserverclient/server/endpoint/endpoint.py?line=73'>74</a>\u001b[0m \u001b[39m# so that we do not attempt to log bytes and other binary data.\u001b[39;00m\n\u001b[0;32m     <a href='file:///c%3A/Users/BenjaminBlankartz/repo/tableau-refresh-extract/env/lib/site-packages/tableauserverclient/server/endpoint/endpoint.py?line=74'>75</a>\u001b[0m \u001b[39mif\u001b[39;00m \u001b[39mlen\u001b[39m(server_response\u001b[39m.\u001b[39mcontent) \u001b[39m>\u001b[39m \u001b[39m0\u001b[39m \u001b[39mand\u001b[39;00m server_response\u001b[39m.\u001b[39mencoding:\n",
      "File \u001b[1;32mc:\\Users\\BenjaminBlankartz\\repo\\tableau-refresh-extract\\env\\lib\\site-packages\\tableauserverclient\\server\\endpoint\\endpoint.py:88\u001b[0m, in \u001b[0;36mEndpoint._check_status\u001b[1;34m(self, server_response)\u001b[0m\n\u001b[0;32m     <a href='file:///c%3A/Users/BenjaminBlankartz/repo/tableau-refresh-extract/env/lib/site-packages/tableauserverclient/server/endpoint/endpoint.py?line=85'>86</a>\u001b[0m \u001b[39melif\u001b[39;00m server_response\u001b[39m.\u001b[39mstatus_code \u001b[39mnot\u001b[39;00m \u001b[39min\u001b[39;00m Success_codes:\n\u001b[0;32m     <a href='file:///c%3A/Users/BenjaminBlankartz/repo/tableau-refresh-extract/env/lib/site-packages/tableauserverclient/server/endpoint/endpoint.py?line=86'>87</a>\u001b[0m     \u001b[39mtry\u001b[39;00m:\n\u001b[1;32m---> <a href='file:///c%3A/Users/BenjaminBlankartz/repo/tableau-refresh-extract/env/lib/site-packages/tableauserverclient/server/endpoint/endpoint.py?line=87'>88</a>\u001b[0m         \u001b[39mraise\u001b[39;00m ServerResponseError\u001b[39m.\u001b[39mfrom_response(server_response\u001b[39m.\u001b[39mcontent, \u001b[39mself\u001b[39m\u001b[39m.\u001b[39mparent_srv\u001b[39m.\u001b[39mnamespace)\n\u001b[0;32m     <a href='file:///c%3A/Users/BenjaminBlankartz/repo/tableau-refresh-extract/env/lib/site-packages/tableauserverclient/server/endpoint/endpoint.py?line=88'>89</a>\u001b[0m     \u001b[39mexcept\u001b[39;00m ParseError:\n\u001b[0;32m     <a href='file:///c%3A/Users/BenjaminBlankartz/repo/tableau-refresh-extract/env/lib/site-packages/tableauserverclient/server/endpoint/endpoint.py?line=89'>90</a>\u001b[0m         \u001b[39m# This will happen if we get a non-success HTTP code that\u001b[39;00m\n\u001b[0;32m     <a href='file:///c%3A/Users/BenjaminBlankartz/repo/tableau-refresh-extract/env/lib/site-packages/tableauserverclient/server/endpoint/endpoint.py?line=90'>91</a>\u001b[0m         \u001b[39m# doesn't return an xml error object (like metadata endpoints)\u001b[39;00m\n\u001b[0;32m     <a href='file:///c%3A/Users/BenjaminBlankartz/repo/tableau-refresh-extract/env/lib/site-packages/tableauserverclient/server/endpoint/endpoint.py?line=91'>92</a>\u001b[0m         \u001b[39m# we convert this to a better exception and pass through the raw\u001b[39;00m\n\u001b[0;32m     <a href='file:///c%3A/Users/BenjaminBlankartz/repo/tableau-refresh-extract/env/lib/site-packages/tableauserverclient/server/endpoint/endpoint.py?line=92'>93</a>\u001b[0m         \u001b[39m# response body\u001b[39;00m\n\u001b[0;32m     <a href='file:///c%3A/Users/BenjaminBlankartz/repo/tableau-refresh-extract/env/lib/site-packages/tableauserverclient/server/endpoint/endpoint.py?line=93'>94</a>\u001b[0m         \u001b[39mraise\u001b[39;00m NonXMLResponseError(server_response\u001b[39m.\u001b[39mcontent)\n",
      "\u001b[1;31mServerResponseError\u001b[0m: \n\n\t403000: Forbidden\n\t\t'gergel@amendllc.com' isn't authorized to query users on site 'bb9faedf-b881-4f80-becf-43a7e44a2741'."
     ]
    }
   ],
   "source": [
    "with server.auth.sign_in(tableau_auth):\n",
    "    all_users, pagination_item = server.users.get()\n",
    "    print(\"\\nThere are {} user on site: \".format(pagination_item.total_available))\n",
    "    print([user.name for user in all_users])"
   ]
  },
  {
   "cell_type": "code",
   "execution_count": null,
   "metadata": {},
   "outputs": [
    {
     "name": "stdout",
     "output_type": "stream",
     "text": [
      "<tableauserverclient.models.workbook_item.WorkbookItem object at 0x0000017C58EE19A0>\n",
      "<Job#f08438b6-a689-49e7-8304-bd36753ed573 RefreshExtract created_at(2022-04-27 16:19:13+00:00) started_at(None) completed_at(None) progress (None) finish_code(-1)>\n"
     ]
    }
   ],
   "source": [
    "job_id = \"\"\n",
    "with server.auth.sign_in(tableau_auth):\n",
    "    # get the workbook item from the site\n",
    "    workbook = server.workbooks.get_by_id('c4fb9373-84ee-4125-a9df-4d9c428b8c3c')    \n",
    "    # call the update method\n",
    "    job = server.workbooks.refresh(workbook)\n",
    "    print(workbook)\n",
    "    print(job)\n",
    "    job_id = job.id\n",
    "    #print(\"\\nThe data of workbook {0} is refreshed.\".format(workbook.name))"
   ]
  },
  {
   "cell_type": "markdown",
   "metadata": {},
   "source": [
    "Check the status of the job.\n",
    "https://help.tableau.com/current/api/rest_api/en-us/REST/rest_api_ref.htm#query_job\n",
    "https://tableau.github.io/server-client-python/docs/api-ref#jobs\n",
    "\n",
    "finish_code = 1 is a failed job\n",
    "finish_code = 0 is success \n",
    "finish_code = 2 is cancelled\n",
    "finish_code = -1 is scheduled?  (not listed)"
   ]
  },
  {
   "cell_type": "code",
   "execution_count": null,
   "metadata": {},
   "outputs": [
    {
     "name": "stdout",
     "output_type": "stream",
     "text": [
      "<Job#f08438b6-a689-49e7-8304-bd36753ed573 RefreshExtract created_at(2022-04-27 16:19:13+00:00) started_at(2022-04-27 16:19:17+00:00) completed_at(2022-04-27 16:20:09+00:00) progress (100) finish_code(0)>\n",
      "f08438b6-a689-49e7-8304-bd36753ed573\n",
      "0\n",
      "[\"Finished refresh of extracts (new extract id:[hyper:73b4f532-3e5f-4c75-b640-432ca8bd52e8]) for Workbook 'Testing Workbook - SoCF Sandbox'\"]\n"
     ]
    }
   ],
   "source": [
    "\n",
    "with server.auth.sign_in(tableau_auth):\n",
    "\n",
    "     # get the id of the job from response to extract refresh task,\n",
    "     # or another asynchronous REST API call.\n",
    "     # in this case, \"576b616d-341a-4539-b32c-1ed0eb9db548\"\n",
    "\n",
    "\n",
    "    #myJobId = '874cfafe-2edd-48c5-a70f-97fe8c610ad7'\n",
    "    #jobinfo = server.jobs.get_by_id(my_job_id)\n",
    "\n",
    "    my_job_id = job_id\n",
    "    jobinfo = server.jobs.wait_for_job(my_job_id,timeout=600)\n",
    "    \n",
    "\n",
    "    print(jobinfo)\n",
    "    print(jobinfo.id)\n",
    "    print(jobinfo.finish_code)\n",
    "    print(jobinfo.notes)"
   ]
  },
  {
   "cell_type": "code",
   "execution_count": null,
   "metadata": {},
   "outputs": [],
   "source": [
    "#server.auth.sign_in(tableau_auth)"
   ]
  }
 ],
 "metadata": {
  "interpreter": {
   "hash": "4e8696f1c3a6fa4be86fd4b34bade07a7c5a1df25703c354e41552226adbf6f3"
  },
  "kernelspec": {
   "display_name": "Python 3.8.0 ('env': venv)",
   "language": "python",
   "name": "python3"
  },
  "language_info": {
   "codemirror_mode": {
    "name": "ipython",
    "version": 3
   },
   "file_extension": ".py",
   "mimetype": "text/x-python",
   "name": "python",
   "nbconvert_exporter": "python",
   "pygments_lexer": "ipython3",
   "version": "3.8.0"
  },
  "orig_nbformat": 4
 },
 "nbformat": 4,
 "nbformat_minor": 2
}
