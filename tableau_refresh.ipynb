{
 "cells": [
  {
   "cell_type": "code",
   "execution_count": 1,
   "metadata": {},
   "outputs": [],
   "source": [
    "import tableauserverclient as tsc\n",
    "import pandas as pd"
   ]
  },
  {
   "cell_type": "code",
   "execution_count": 4,
   "metadata": {},
   "outputs": [],
   "source": [
    "user = \"blankartz@amendllc.com\"\n",
    "password = \"<pass>\"\n",
    "site_id = \"statewidesafetysystems\""
   ]
  },
  {
   "cell_type": "code",
   "execution_count": 13,
   "metadata": {},
   "outputs": [],
   "source": [
    "#tableau_auth = tsc.TableauAuth(user,password,site_id=site_id)\n"
   ]
  },
  {
   "cell_type": "code",
   "execution_count": 2,
   "metadata": {},
   "outputs": [],
   "source": [
    "token_name = \"tableau-refresh-test\"\n",
    "token_value = \"74l5rXGSTfCt8+Ui/HacXQ==:uxxROtbQvKx3kWbiP6oqvWfmFb1jyfW7\""
   ]
  },
  {
   "cell_type": "code",
   "execution_count": 5,
   "metadata": {},
   "outputs": [],
   "source": [
    "tableau_auth = tsc.PersonalAccessTokenAuth(token_name,token_value,site_id=site_id)"
   ]
  },
  {
   "cell_type": "code",
   "execution_count": 6,
   "metadata": {},
   "outputs": [],
   "source": [
    "server = tsc.Server('https://10ay.online.tableau.com/', use_server_version=True)"
   ]
  },
  {
   "cell_type": "code",
   "execution_count": 9,
   "metadata": {},
   "outputs": [],
   "source": [
    "req_option = tsc.RequestOptions()\n",
    "req_option.filter.add(tsc.Filter(tsc.RequestOptions.Field.ProjectName,\n",
    "                                 tsc.RequestOptions.Operator.Equals,\n",
    "                                 \"Financial Statements - Sandbox\"))"
   ]
  },
  {
   "cell_type": "code",
   "execution_count": 11,
   "metadata": {},
   "outputs": [
    {
     "name": "stdout",
     "output_type": "stream",
     "text": [
      "<tableauserverclient.models.workbook_item.WorkbookItem object at 0x0000025685E8F6A0>\n",
      "Balance Sheet - Sandbox 8aaf2260-b08e-4f98-8929-74ebf0f3577a\n",
      "<tableauserverclient.models.workbook_item.WorkbookItem object at 0x0000025685ECADC0>\n",
      "Income Statement - Sandbox 99729f01-2df6-484f-921f-ab3fdb7e12ee\n",
      "<tableauserverclient.models.workbook_item.WorkbookItem object at 0x0000025685ECAD00>\n",
      "Statement of Cash Flow - Sandbox 8125f716-eeb6-49c6-8243-de57725e2ad3\n",
      "<tableauserverclient.models.workbook_item.WorkbookItem object at 0x0000025685ECA970>\n",
      "Financial Reporting Analytics - Sandbox bf8b072b-7373-4ad6-b656-57d9c1098f52\n",
      "<tableauserverclient.models.workbook_item.WorkbookItem object at 0x0000025685ECAA90>\n",
      "Branch Comparison - Sandbox 3ecba336-5fd6-4316-a117-923de0244694\n",
      "<tableauserverclient.models.workbook_item.WorkbookItem object at 0x0000025685ECAC40>\n",
      "Controllable Cost KPI's - sandbox cc713c90-fc4f-400f-80b0-510a22c31754\n",
      "<tableauserverclient.models.workbook_item.WorkbookItem object at 0x0000025685ECA8B0>\n",
      "Testing Workbook - SoCF Sandbox c4fb9373-84ee-4125-a9df-4d9c428b8c3c\n"
     ]
    }
   ],
   "source": [
    "with server.auth.sign_in(tableau_auth):  \n",
    "    all_workbooks_items, pagination_item = server.workbooks.get(req_option)\n",
    "    # print names of first 100 workbooks\n",
    "    for workbook in all_workbooks_items:\n",
    "        print(workbook)\n",
    "        print(workbook.name, workbook.id)\n"
   ]
  },
  {
   "cell_type": "code",
   "execution_count": 28,
   "metadata": {},
   "outputs": [
    {
     "name": "stdout",
     "output_type": "stream",
     "text": [
      "<tableauserverclient.models.workbook_item.WorkbookItem object at 0x0000017C58EE19A0>\n",
      "<Job#f08438b6-a689-49e7-8304-bd36753ed573 RefreshExtract created_at(2022-04-27 16:19:13+00:00) started_at(None) completed_at(None) progress (None) finish_code(-1)>\n"
     ]
    }
   ],
   "source": [
    "job_id = \"\"\n",
    "with server.auth.sign_in(tableau_auth):\n",
    "    # get the workbook item from the site\n",
    "    workbook = server.workbooks.get_by_id('c4fb9373-84ee-4125-a9df-4d9c428b8c3c')    \n",
    "    # call the update method\n",
    "    job = server.workbooks.refresh(workbook)\n",
    "    print(workbook)\n",
    "    print(job)\n",
    "    job_id = job.id\n",
    "    #print(\"\\nThe data of workbook {0} is refreshed.\".format(workbook.name))"
   ]
  },
  {
   "cell_type": "markdown",
   "metadata": {},
   "source": [
    "Check the status of the job.\n",
    "https://help.tableau.com/current/api/rest_api/en-us/REST/rest_api_ref.htm#query_job\n",
    "https://tableau.github.io/server-client-python/docs/api-ref#jobs\n",
    "\n",
    "finish_code = 1 is a failed job\n",
    "finish_code = 0 is success \n",
    "finish_code = 2 is cancelled\n",
    "finish_code = -1 is scheduled?  (not listed)"
   ]
  },
  {
   "cell_type": "code",
   "execution_count": 29,
   "metadata": {},
   "outputs": [
    {
     "name": "stdout",
     "output_type": "stream",
     "text": [
      "<Job#f08438b6-a689-49e7-8304-bd36753ed573 RefreshExtract created_at(2022-04-27 16:19:13+00:00) started_at(2022-04-27 16:19:17+00:00) completed_at(2022-04-27 16:20:09+00:00) progress (100) finish_code(0)>\n",
      "f08438b6-a689-49e7-8304-bd36753ed573\n",
      "0\n",
      "[\"Finished refresh of extracts (new extract id:[hyper:73b4f532-3e5f-4c75-b640-432ca8bd52e8]) for Workbook 'Testing Workbook - SoCF Sandbox'\"]\n"
     ]
    }
   ],
   "source": [
    "\n",
    "with server.auth.sign_in(tableau_auth):\n",
    "\n",
    "     # get the id of the job from response to extract refresh task,\n",
    "     # or another asynchronous REST API call.\n",
    "     # in this case, \"576b616d-341a-4539-b32c-1ed0eb9db548\"\n",
    "\n",
    "\n",
    "    #myJobId = '874cfafe-2edd-48c5-a70f-97fe8c610ad7'\n",
    "    #jobinfo = server.jobs.get_by_id(my_job_id)\n",
    "\n",
    "    my_job_id = job_id\n",
    "    jobinfo = server.jobs.wait_for_job(my_job_id,timeout=600)\n",
    "    \n",
    "\n",
    "    print(jobinfo)\n",
    "    print(jobinfo.id)\n",
    "    print(jobinfo.finish_code)\n",
    "    print(jobinfo.notes)"
   ]
  },
  {
   "cell_type": "code",
   "execution_count": 19,
   "metadata": {},
   "outputs": [],
   "source": [
    "#server.auth.sign_in(tableau_auth)"
   ]
  }
 ],
 "metadata": {
  "interpreter": {
   "hash": "4e8696f1c3a6fa4be86fd4b34bade07a7c5a1df25703c354e41552226adbf6f3"
  },
  "kernelspec": {
   "display_name": "Python 3.8.0 ('env': venv)",
   "language": "python",
   "name": "python3"
  },
  "language_info": {
   "codemirror_mode": {
    "name": "ipython",
    "version": 3
   },
   "file_extension": ".py",
   "mimetype": "text/x-python",
   "name": "python",
   "nbconvert_exporter": "python",
   "pygments_lexer": "ipython3",
   "version": "3.8.0"
  },
  "orig_nbformat": 4
 },
 "nbformat": 4,
 "nbformat_minor": 2
}
