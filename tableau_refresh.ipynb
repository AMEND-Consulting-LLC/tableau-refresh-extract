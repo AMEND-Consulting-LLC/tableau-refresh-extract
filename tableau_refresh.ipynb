{
 "cells": [
  {
   "cell_type": "code",
   "execution_count": 1,
   "metadata": {},
   "outputs": [],
   "source": [
    "import tableauserverclient as tsc\n",
    "import pandas as pd"
   ]
  },
  {
   "cell_type": "code",
   "execution_count": 4,
   "metadata": {},
   "outputs": [],
   "source": [
    "user = \"blankartz@amendllc.com\"\n",
    "password = \"<pass>\"\n",
    "site_id = \"statewidesafetysystems\""
   ]
  },
  {
   "cell_type": "code",
   "execution_count": 6,
   "metadata": {},
   "outputs": [],
   "source": [
    "#tableau_auth = tsc.TableauAuth(user,password,site_id=site_id)\n"
   ]
  },
  {
   "cell_type": "code",
   "execution_count": 20,
   "metadata": {},
   "outputs": [],
   "source": [
    "token_name = \"tableau-refresh-test\"\n",
    "token_value = \"74l5rXGSTfCt8+Ui/HacXQ==:uxxROtbQvKx3kWbiP6oqvWfmFb1jyfW7\""
   ]
  },
  {
   "cell_type": "code",
   "execution_count": 21,
   "metadata": {},
   "outputs": [],
   "source": [
    "tableau_auth = tsc.PersonalAccessTokenAuth(token_name,token_value,site_id=site_id)"
   ]
  },
  {
   "cell_type": "code",
   "execution_count": 22,
   "metadata": {},
   "outputs": [],
   "source": [
    "server = tsc.Server('https://10ay.online.tableau.com/', use_server_version=True)"
   ]
  },
  {
   "cell_type": "code",
   "execution_count": 23,
   "metadata": {},
   "outputs": [
    {
     "name": "stdout",
     "output_type": "stream",
     "text": [
      "Income Statement dc744435-10ef-4f55-97bc-535e39bc7445\n",
      "Branch Manager Financials 5a9db29b-ba48-4ab1-975e-257ea1958f8e\n",
      "Daily Labor Dashboard 571c7870-21ef-4dcb-97ea-5b1aacb9a0e3\n",
      "Daily Labor Dashboard 53bafec9-92a2-4437-902a-c7032c080a7d\n",
      "Balance Sheet - Sandbox 8aaf2260-b08e-4f98-8929-74ebf0f3577a\n",
      "Statement of Cash Flow 44123aca-674a-4519-a42d-72406be509c4\n",
      "Income Statement - Sandbox 99729f01-2df6-484f-921f-ab3fdb7e12ee\n",
      "Statement of Cash Flow - Sandbox 8125f716-eeb6-49c6-8243-de57725e2ad3\n",
      "product cost differences - sandbox - review to delete 5eea3682-3d60-4f10-91c5-258716c300a2\n",
      "asset acquisition dates 01bc706a-f5f2-4dc5-9d01-835f702c4b98\n",
      "Balance Sheet a9671386-27bb-4b8f-b3eb-886f560edf27\n",
      "Branch Daily Census Year Over Year aad96f2c-59c6-49fb-9b1d-40453c8021f6\n",
      "cust-salesrep a5994121-79ca-41ce-aa40-ac5c13e451da\n",
      "YoY Job Revenue vs. FTE's f60b06de-9729-4b57-9373-fa97a3d06e59\n",
      "Job GL Errors - Production ba931a2c-6164-4c5d-924f-2100ac04df3b\n",
      "product sales year over year - prototype fd8c62da-b344-478e-a3e6-017a693c6d37\n",
      "Branch Comparison a026809a-ae91-442c-8830-a4f3ab0354bf\n",
      "Financial Reporting Analytics 66391b99-42e7-4a42-9765-b85066287331\n",
      "STSS Job History fc4c1641-1e2a-49ae-9a7e-ddd5c6d252f9\n",
      "Financial Reporting Analytics - Sandbox bf8b072b-7373-4ad6-b656-57d9c1098f52\n",
      "Sales by Customer e6d86939-0ad0-4ca7-9149-c2c50146d3e9\n",
      "Branch Comparison - Sandbox 3ecba336-5fd6-4316-a117-923de0244694\n",
      "Credit and Liquidity 34979191-76fa-4853-8587-1d32e33de458\n",
      "Census-Paycom Reconciliation 19b785f3-5108-4e87-bf79-124bc222f320\n",
      "Asset Utilization 3ee7adba-0163-49fa-815c-a91ca53f24db\n",
      "Asset Utilization abaaacaf-ed83-483d-9222-eba3fba580c0\n",
      "Branch Comparison bd625874-e837-4b28-839e-fc7d607e562d\n",
      "Monthly Branch Weather f230f0e9-b4f6-464e-8c2e-14c6bd60026f\n",
      "Monthly Census Values and Targets 0cd0a5c6-bce4-4a38-8dd4-9b659fc143ce\n",
      "Controllable Cost KPI'S ee7ac22c-a149-47bc-9ba7-2f764b88c6f3\n",
      "Controllable Cost KPI's 60d0b91e-732d-4f01-8f61-83c0afa385a6\n",
      "Controllable Cost KPI's - sandbox cc713c90-fc4f-400f-80b0-510a22c31754\n",
      "SALT Analysis 3283b490-63bd-4002-951b-47ce0a2638de\n",
      "Income Statement - Monthly Reporting 94c1a902-81fb-48a3-8e36-e3b909113896\n",
      "Balance Sheet - Monthly Reporting 41b47e61-98f2-448e-9f45-28cc8f1923fa\n",
      "Statement of Cash Flow - Monthly Reporting acb5a9c6-a7ce-4419-9808-d8f8f6af0408\n",
      "Branch Comparison - Monthly Reporting 1c1b9d50-00b3-456b-ad6e-38047f2f1b67\n",
      "Financial Reporting Analytics - Monthly Reporting fe39feda-b844-4442-8839-64bc2d7d13d6\n",
      "Budget Analytics - Sandbox bd9548cb-f604-4897-a914-326872e97f77\n",
      "Budget Revenue 2019-2022 2eb92d35-95c2-4c41-8dd2-0e079fd78bc6\n",
      "STSS Labor Hours d5dc4a45-ac22-41b5-82c7-69ac6051b450\n",
      "18 - 22 Budget Data 179be917-53b1-490e-a8c0-933bfef191f1\n",
      "Controllable Cost KPI'S - Datasource Change 089878c4-1fc3-4f1c-99df-89ba6db32da9\n"
     ]
    }
   ],
   "source": [
    "with server.auth.sign_in(tableau_auth):  \n",
    "    all_workbooks_items, pagination_item = server.workbooks.get()\n",
    "    # print names of first 100 workbooks\n",
    "    for workbook in all_workbooks_items:\n",
    "        print(workbook.name, workbook.id)"
   ]
  },
  {
   "cell_type": "code",
   "execution_count": 24,
   "metadata": {},
   "outputs": [
    {
     "ename": "ServerResponseError",
     "evalue": "\n\n\t403076: Forbidden\n\t\t'blankartz@amendllc.com' isn't authorized to refresh workbook '8aaf2260-b08e-4f98-8929-74ebf0f3577a'.",
     "output_type": "error",
     "traceback": [
      "\u001b[1;31m---------------------------------------------------------------------------\u001b[0m",
      "\u001b[1;31mServerResponseError\u001b[0m                       Traceback (most recent call last)",
      "\u001b[1;32mc:\\Users\\BenjaminBlankartz\\repo\\tableau-refresh-extract\\tableau_refresh.ipynb Cell 8'\u001b[0m in \u001b[0;36m<cell line: 1>\u001b[1;34m()\u001b[0m\n\u001b[0;32m      <a href='vscode-notebook-cell:/c%3A/Users/BenjaminBlankartz/repo/tableau-refresh-extract/tableau_refresh.ipynb#ch0000006?line=2'>3</a>\u001b[0m workbook \u001b[39m=\u001b[39m server\u001b[39m.\u001b[39mworkbooks\u001b[39m.\u001b[39mget_by_id(\u001b[39m'\u001b[39m\u001b[39m8aaf2260-b08e-4f98-8929-74ebf0f3577a\u001b[39m\u001b[39m'\u001b[39m)    \n\u001b[0;32m      <a href='vscode-notebook-cell:/c%3A/Users/BenjaminBlankartz/repo/tableau-refresh-extract/tableau_refresh.ipynb#ch0000006?line=3'>4</a>\u001b[0m \u001b[39m# call the update method\u001b[39;00m\n\u001b[1;32m----> <a href='vscode-notebook-cell:/c%3A/Users/BenjaminBlankartz/repo/tableau-refresh-extract/tableau_refresh.ipynb#ch0000006?line=4'>5</a>\u001b[0m workbook \u001b[39m=\u001b[39m server\u001b[39m.\u001b[39;49mworkbooks\u001b[39m.\u001b[39;49mrefresh(workbook)\n\u001b[0;32m      <a href='vscode-notebook-cell:/c%3A/Users/BenjaminBlankartz/repo/tableau-refresh-extract/tableau_refresh.ipynb#ch0000006?line=5'>6</a>\u001b[0m \u001b[39mprint\u001b[39m(\u001b[39m\"\u001b[39m\u001b[39m\\n\u001b[39;00m\u001b[39mThe data of workbook \u001b[39m\u001b[39m{0}\u001b[39;00m\u001b[39m is refreshed.\u001b[39m\u001b[39m\"\u001b[39m\u001b[39m.\u001b[39mformat(workbook\u001b[39m.\u001b[39mname))\n",
      "File \u001b[1;32mc:\\Users\\BenjaminBlankartz\\repo\\tableau-refresh-extract\\env\\lib\\site-packages\\tableauserverclient\\server\\endpoint\\endpoint.py:177\u001b[0m, in \u001b[0;36mapi.<locals>._decorator.<locals>.wrapper\u001b[1;34m(self, *args, **kwargs)\u001b[0m\n\u001b[0;32m    <a href='file:///c%3A/Users/BenjaminBlankartz/repo/tableau-refresh-extract/env/lib/site-packages/tableauserverclient/server/endpoint/endpoint.py?line=173'>174</a>\u001b[0m \u001b[39m@wraps\u001b[39m(func)\n\u001b[0;32m    <a href='file:///c%3A/Users/BenjaminBlankartz/repo/tableau-refresh-extract/env/lib/site-packages/tableauserverclient/server/endpoint/endpoint.py?line=174'>175</a>\u001b[0m \u001b[39mdef\u001b[39;00m \u001b[39mwrapper\u001b[39m(\u001b[39mself\u001b[39m, \u001b[39m*\u001b[39margs, \u001b[39m*\u001b[39m\u001b[39m*\u001b[39mkwargs):\n\u001b[0;32m    <a href='file:///c%3A/Users/BenjaminBlankartz/repo/tableau-refresh-extract/env/lib/site-packages/tableauserverclient/server/endpoint/endpoint.py?line=175'>176</a>\u001b[0m     \u001b[39mself\u001b[39m\u001b[39m.\u001b[39mparent_srv\u001b[39m.\u001b[39massert_at_least_version(version)\n\u001b[1;32m--> <a href='file:///c%3A/Users/BenjaminBlankartz/repo/tableau-refresh-extract/env/lib/site-packages/tableauserverclient/server/endpoint/endpoint.py?line=176'>177</a>\u001b[0m     \u001b[39mreturn\u001b[39;00m func(\u001b[39mself\u001b[39;49m, \u001b[39m*\u001b[39;49margs, \u001b[39m*\u001b[39;49m\u001b[39m*\u001b[39;49mkwargs)\n",
      "File \u001b[1;32mc:\\Users\\BenjaminBlankartz\\repo\\tableau-refresh-extract\\env\\lib\\site-packages\\tableauserverclient\\server\\endpoint\\workbooks_endpoint.py:64\u001b[0m, in \u001b[0;36mWorkbooks.refresh\u001b[1;34m(self, workbook_id)\u001b[0m\n\u001b[0;32m     <a href='file:///c%3A/Users/BenjaminBlankartz/repo/tableau-refresh-extract/env/lib/site-packages/tableauserverclient/server/endpoint/workbooks_endpoint.py?line=61'>62</a>\u001b[0m url \u001b[39m=\u001b[39m \u001b[39m\"\u001b[39m\u001b[39m{0}\u001b[39;00m\u001b[39m/\u001b[39m\u001b[39m{1}\u001b[39;00m\u001b[39m/refresh\u001b[39m\u001b[39m\"\u001b[39m\u001b[39m.\u001b[39mformat(\u001b[39mself\u001b[39m\u001b[39m.\u001b[39mbaseurl, id_)\n\u001b[0;32m     <a href='file:///c%3A/Users/BenjaminBlankartz/repo/tableau-refresh-extract/env/lib/site-packages/tableauserverclient/server/endpoint/workbooks_endpoint.py?line=62'>63</a>\u001b[0m empty_req \u001b[39m=\u001b[39m RequestFactory\u001b[39m.\u001b[39mEmpty\u001b[39m.\u001b[39mempty_req()\n\u001b[1;32m---> <a href='file:///c%3A/Users/BenjaminBlankartz/repo/tableau-refresh-extract/env/lib/site-packages/tableauserverclient/server/endpoint/workbooks_endpoint.py?line=63'>64</a>\u001b[0m server_response \u001b[39m=\u001b[39m \u001b[39mself\u001b[39;49m\u001b[39m.\u001b[39;49mpost_request(url, empty_req)\n\u001b[0;32m     <a href='file:///c%3A/Users/BenjaminBlankartz/repo/tableau-refresh-extract/env/lib/site-packages/tableauserverclient/server/endpoint/workbooks_endpoint.py?line=64'>65</a>\u001b[0m new_job \u001b[39m=\u001b[39m JobItem\u001b[39m.\u001b[39mfrom_response(server_response\u001b[39m.\u001b[39mcontent, \u001b[39mself\u001b[39m\u001b[39m.\u001b[39mparent_srv\u001b[39m.\u001b[39mnamespace)[\u001b[39m0\u001b[39m]\n\u001b[0;32m     <a href='file:///c%3A/Users/BenjaminBlankartz/repo/tableau-refresh-extract/env/lib/site-packages/tableauserverclient/server/endpoint/workbooks_endpoint.py?line=65'>66</a>\u001b[0m \u001b[39mreturn\u001b[39;00m new_job\n",
      "File \u001b[1;32mc:\\Users\\BenjaminBlankartz\\repo\\tableau-refresh-extract\\env\\lib\\site-packages\\tableauserverclient\\server\\endpoint\\endpoint.py:134\u001b[0m, in \u001b[0;36mEndpoint.post_request\u001b[1;34m(self, url, xml_request, content_type, parameters)\u001b[0m\n\u001b[0;32m    <a href='file:///c%3A/Users/BenjaminBlankartz/repo/tableau-refresh-extract/env/lib/site-packages/tableauserverclient/server/endpoint/endpoint.py?line=132'>133</a>\u001b[0m \u001b[39mdef\u001b[39;00m \u001b[39mpost_request\u001b[39m(\u001b[39mself\u001b[39m, url, xml_request, content_type\u001b[39m=\u001b[39m\u001b[39m\"\u001b[39m\u001b[39mtext/xml\u001b[39m\u001b[39m\"\u001b[39m, parameters\u001b[39m=\u001b[39m\u001b[39mNone\u001b[39;00m):\n\u001b[1;32m--> <a href='file:///c%3A/Users/BenjaminBlankartz/repo/tableau-refresh-extract/env/lib/site-packages/tableauserverclient/server/endpoint/endpoint.py?line=133'>134</a>\u001b[0m     \u001b[39mreturn\u001b[39;00m \u001b[39mself\u001b[39;49m\u001b[39m.\u001b[39;49m_make_request(\n\u001b[0;32m    <a href='file:///c%3A/Users/BenjaminBlankartz/repo/tableau-refresh-extract/env/lib/site-packages/tableauserverclient/server/endpoint/endpoint.py?line=134'>135</a>\u001b[0m         \u001b[39mself\u001b[39;49m\u001b[39m.\u001b[39;49mparent_srv\u001b[39m.\u001b[39;49msession\u001b[39m.\u001b[39;49mpost,\n\u001b[0;32m    <a href='file:///c%3A/Users/BenjaminBlankartz/repo/tableau-refresh-extract/env/lib/site-packages/tableauserverclient/server/endpoint/endpoint.py?line=135'>136</a>\u001b[0m         url,\n\u001b[0;32m    <a href='file:///c%3A/Users/BenjaminBlankartz/repo/tableau-refresh-extract/env/lib/site-packages/tableauserverclient/server/endpoint/endpoint.py?line=136'>137</a>\u001b[0m         content\u001b[39m=\u001b[39;49mxml_request,\n\u001b[0;32m    <a href='file:///c%3A/Users/BenjaminBlankartz/repo/tableau-refresh-extract/env/lib/site-packages/tableauserverclient/server/endpoint/endpoint.py?line=137'>138</a>\u001b[0m         auth_token\u001b[39m=\u001b[39;49m\u001b[39mself\u001b[39;49m\u001b[39m.\u001b[39;49mparent_srv\u001b[39m.\u001b[39;49mauth_token,\n\u001b[0;32m    <a href='file:///c%3A/Users/BenjaminBlankartz/repo/tableau-refresh-extract/env/lib/site-packages/tableauserverclient/server/endpoint/endpoint.py?line=138'>139</a>\u001b[0m         content_type\u001b[39m=\u001b[39;49mcontent_type,\n\u001b[0;32m    <a href='file:///c%3A/Users/BenjaminBlankartz/repo/tableau-refresh-extract/env/lib/site-packages/tableauserverclient/server/endpoint/endpoint.py?line=139'>140</a>\u001b[0m         parameters\u001b[39m=\u001b[39;49mparameters,\n\u001b[0;32m    <a href='file:///c%3A/Users/BenjaminBlankartz/repo/tableau-refresh-extract/env/lib/site-packages/tableauserverclient/server/endpoint/endpoint.py?line=140'>141</a>\u001b[0m     )\n",
      "File \u001b[1;32mc:\\Users\\BenjaminBlankartz\\repo\\tableau-refresh-extract\\env\\lib\\site-packages\\tableauserverclient\\server\\endpoint\\endpoint.py:71\u001b[0m, in \u001b[0;36mEndpoint._make_request\u001b[1;34m(self, method, url, content, auth_token, content_type, parameters)\u001b[0m\n\u001b[0;32m     <a href='file:///c%3A/Users/BenjaminBlankartz/repo/tableau-refresh-extract/env/lib/site-packages/tableauserverclient/server/endpoint/endpoint.py?line=68'>69</a>\u001b[0m server_response \u001b[39m=\u001b[39m method(url, \u001b[39m*\u001b[39m\u001b[39m*\u001b[39mparameters)\n\u001b[0;32m     <a href='file:///c%3A/Users/BenjaminBlankartz/repo/tableau-refresh-extract/env/lib/site-packages/tableauserverclient/server/endpoint/endpoint.py?line=69'>70</a>\u001b[0m \u001b[39mself\u001b[39m\u001b[39m.\u001b[39mparent_srv\u001b[39m.\u001b[39m_namespace\u001b[39m.\u001b[39mdetect(server_response\u001b[39m.\u001b[39mcontent)\n\u001b[1;32m---> <a href='file:///c%3A/Users/BenjaminBlankartz/repo/tableau-refresh-extract/env/lib/site-packages/tableauserverclient/server/endpoint/endpoint.py?line=70'>71</a>\u001b[0m \u001b[39mself\u001b[39;49m\u001b[39m.\u001b[39;49m_check_status(server_response)\n\u001b[0;32m     <a href='file:///c%3A/Users/BenjaminBlankartz/repo/tableau-refresh-extract/env/lib/site-packages/tableauserverclient/server/endpoint/endpoint.py?line=72'>73</a>\u001b[0m \u001b[39m# This check is to determine if the response is a text response (xml or otherwise)\u001b[39;00m\n\u001b[0;32m     <a href='file:///c%3A/Users/BenjaminBlankartz/repo/tableau-refresh-extract/env/lib/site-packages/tableauserverclient/server/endpoint/endpoint.py?line=73'>74</a>\u001b[0m \u001b[39m# so that we do not attempt to log bytes and other binary data.\u001b[39;00m\n\u001b[0;32m     <a href='file:///c%3A/Users/BenjaminBlankartz/repo/tableau-refresh-extract/env/lib/site-packages/tableauserverclient/server/endpoint/endpoint.py?line=74'>75</a>\u001b[0m \u001b[39mif\u001b[39;00m \u001b[39mlen\u001b[39m(server_response\u001b[39m.\u001b[39mcontent) \u001b[39m>\u001b[39m \u001b[39m0\u001b[39m \u001b[39mand\u001b[39;00m server_response\u001b[39m.\u001b[39mencoding:\n",
      "File \u001b[1;32mc:\\Users\\BenjaminBlankartz\\repo\\tableau-refresh-extract\\env\\lib\\site-packages\\tableauserverclient\\server\\endpoint\\endpoint.py:88\u001b[0m, in \u001b[0;36mEndpoint._check_status\u001b[1;34m(self, server_response)\u001b[0m\n\u001b[0;32m     <a href='file:///c%3A/Users/BenjaminBlankartz/repo/tableau-refresh-extract/env/lib/site-packages/tableauserverclient/server/endpoint/endpoint.py?line=85'>86</a>\u001b[0m \u001b[39melif\u001b[39;00m server_response\u001b[39m.\u001b[39mstatus_code \u001b[39mnot\u001b[39;00m \u001b[39min\u001b[39;00m Success_codes:\n\u001b[0;32m     <a href='file:///c%3A/Users/BenjaminBlankartz/repo/tableau-refresh-extract/env/lib/site-packages/tableauserverclient/server/endpoint/endpoint.py?line=86'>87</a>\u001b[0m     \u001b[39mtry\u001b[39;00m:\n\u001b[1;32m---> <a href='file:///c%3A/Users/BenjaminBlankartz/repo/tableau-refresh-extract/env/lib/site-packages/tableauserverclient/server/endpoint/endpoint.py?line=87'>88</a>\u001b[0m         \u001b[39mraise\u001b[39;00m ServerResponseError\u001b[39m.\u001b[39mfrom_response(server_response\u001b[39m.\u001b[39mcontent, \u001b[39mself\u001b[39m\u001b[39m.\u001b[39mparent_srv\u001b[39m.\u001b[39mnamespace)\n\u001b[0;32m     <a href='file:///c%3A/Users/BenjaminBlankartz/repo/tableau-refresh-extract/env/lib/site-packages/tableauserverclient/server/endpoint/endpoint.py?line=88'>89</a>\u001b[0m     \u001b[39mexcept\u001b[39;00m ParseError:\n\u001b[0;32m     <a href='file:///c%3A/Users/BenjaminBlankartz/repo/tableau-refresh-extract/env/lib/site-packages/tableauserverclient/server/endpoint/endpoint.py?line=89'>90</a>\u001b[0m         \u001b[39m# This will happen if we get a non-success HTTP code that\u001b[39;00m\n\u001b[0;32m     <a href='file:///c%3A/Users/BenjaminBlankartz/repo/tableau-refresh-extract/env/lib/site-packages/tableauserverclient/server/endpoint/endpoint.py?line=90'>91</a>\u001b[0m         \u001b[39m# doesn't return an xml error object (like metadata endpoints)\u001b[39;00m\n\u001b[0;32m     <a href='file:///c%3A/Users/BenjaminBlankartz/repo/tableau-refresh-extract/env/lib/site-packages/tableauserverclient/server/endpoint/endpoint.py?line=91'>92</a>\u001b[0m         \u001b[39m# we convert this to a better exception and pass through the raw\u001b[39;00m\n\u001b[0;32m     <a href='file:///c%3A/Users/BenjaminBlankartz/repo/tableau-refresh-extract/env/lib/site-packages/tableauserverclient/server/endpoint/endpoint.py?line=92'>93</a>\u001b[0m         \u001b[39m# response body\u001b[39;00m\n\u001b[0;32m     <a href='file:///c%3A/Users/BenjaminBlankartz/repo/tableau-refresh-extract/env/lib/site-packages/tableauserverclient/server/endpoint/endpoint.py?line=93'>94</a>\u001b[0m         \u001b[39mraise\u001b[39;00m NonXMLResponseError(server_response\u001b[39m.\u001b[39mcontent)\n",
      "\u001b[1;31mServerResponseError\u001b[0m: \n\n\t403076: Forbidden\n\t\t'blankartz@amendllc.com' isn't authorized to refresh workbook '8aaf2260-b08e-4f98-8929-74ebf0f3577a'."
     ]
    }
   ],
   "source": [
    "with server.auth.sign_in(tableau_auth):\n",
    "    # get the workbook item from the site\n",
    "    workbook = server.workbooks.get_by_id('8aaf2260-b08e-4f98-8929-74ebf0f3577a')    \n",
    "    # call the update method\n",
    "    workbook = server.workbooks.refresh(workbook)\n",
    "    print(\"\\nThe data of workbook {0} is refreshed.\".format(workbook.name))"
   ]
  },
  {
   "cell_type": "code",
   "execution_count": null,
   "metadata": {},
   "outputs": [],
   "source": [
    "#server.auth.sign_in(tableau_auth)"
   ]
  }
 ],
 "metadata": {
  "interpreter": {
   "hash": "4e8696f1c3a6fa4be86fd4b34bade07a7c5a1df25703c354e41552226adbf6f3"
  },
  "kernelspec": {
   "display_name": "Python 3.8.0 ('env': venv)",
   "language": "python",
   "name": "python3"
  },
  "language_info": {
   "codemirror_mode": {
    "name": "ipython",
    "version": 3
   },
   "file_extension": ".py",
   "mimetype": "text/x-python",
   "name": "python",
   "nbconvert_exporter": "python",
   "pygments_lexer": "ipython3",
   "version": "3.8.0"
  },
  "orig_nbformat": 4
 },
 "nbformat": 4,
 "nbformat_minor": 2
}
